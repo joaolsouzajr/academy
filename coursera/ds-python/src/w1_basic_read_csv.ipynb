{
 "cells": [
  {
   "cell_type": "markdown",
   "metadata": {},
   "source": [
    "# Data Files and Summary statistics"
   ]
  },
  {
   "cell_type": "code",
   "execution_count": 12,
   "metadata": {},
   "outputs": [
    {
     "data": {
      "text/plain": [
       "[OrderedDict([('IBGE', '11'),\n",
       "              ('Estado', 'Rondonia'),\n",
       "              ('UF', 'RO'),\n",
       "              ('Regiao', 'Região Norte'),\n",
       "              ('Qtd_Mun', '52'),\n",
       "              ('Sintaxe', \"11'RO'\")]),\n",
       " OrderedDict([('IBGE', '12'),\n",
       "              ('Estado', 'Acre'),\n",
       "              ('UF', 'AC'),\n",
       "              ('Regiao', 'Região Norte'),\n",
       "              ('Qtd_Mun', '22'),\n",
       "              ('Sintaxe', \"12'AC'\")]),\n",
       " OrderedDict([('IBGE', '13'),\n",
       "              ('Estado', 'Amazonas'),\n",
       "              ('UF', 'AM'),\n",
       "              ('Regiao', 'Região Norte'),\n",
       "              ('Qtd_Mun', '62'),\n",
       "              ('Sintaxe', \"13'AM'\")])]"
      ]
     },
     "execution_count": 12,
     "metadata": {},
     "output_type": "execute_result"
    }
   ],
   "source": [
    "import csv\n",
    "\n",
    "%precision 2\n",
    "\n",
    "with open('estados_brasil.csv') as csvfile:\n",
    "    estados = list(csv.DictReader(csvfile, delimiter=';'))\n",
    "\n",
    "estados[:3]\n"
   ]
  },
  {
   "cell_type": "code",
   "execution_count": 13,
   "metadata": {},
   "outputs": [
    {
     "data": {
      "text/plain": [
       "27"
      ]
     },
     "execution_count": 13,
     "metadata": {},
     "output_type": "execute_result"
    }
   ],
   "source": [
    "len(estados)"
   ]
  },
  {
   "cell_type": "code",
   "execution_count": 14,
   "metadata": {},
   "outputs": [
    {
     "data": {
      "text/plain": [
       "odict_keys(['IBGE', 'Estado', 'UF', 'Regiao', 'Qtd_Mun', 'Sintaxe'])"
      ]
     },
     "execution_count": 14,
     "metadata": {},
     "output_type": "execute_result"
    }
   ],
   "source": [
    "estados[1].keys()"
   ]
  },
  {
   "cell_type": "code",
   "execution_count": 15,
   "metadata": {},
   "outputs": [
    {
     "data": {
      "text/plain": [
       "'12'"
      ]
     },
     "execution_count": 15,
     "metadata": {},
     "output_type": "execute_result"
    }
   ],
   "source": [
    "estados[1]['IBGE']"
   ]
  },
  {
   "cell_type": "code",
   "execution_count": 18,
   "metadata": {},
   "outputs": [
    {
     "data": {
      "text/plain": [
       "206.30"
      ]
     },
     "execution_count": 18,
     "metadata": {},
     "output_type": "execute_result"
    }
   ],
   "source": [
    "sum(int(d['Qtd_Mun']) for d in estados) / len(estados)"
   ]
  },
  {
   "cell_type": "code",
   "execution_count": 20,
   "metadata": {},
   "outputs": [
    {
     "data": {
      "text/plain": [
       "{'Região Centro-Oeste',\n",
       " 'Região Nordeste',\n",
       " 'Região Norte',\n",
       " 'Região Sudeste',\n",
       " 'Região Sul'}"
      ]
     },
     "execution_count": 20,
     "metadata": {},
     "output_type": "execute_result"
    }
   ],
   "source": [
    "regions =  set(d['Regiao'] for d in estados)\n",
    "regions"
   ]
  },
  {
   "cell_type": "code",
   "execution_count": 24,
   "metadata": {},
   "outputs": [
    {
     "data": {
      "text/plain": [
       "[{'Região Sudeste': 417.00},\n",
       " {'Região Nordeste': 199.33},\n",
       " {'Região Centro-Oeste': 116.75},\n",
       " {'Região Sul': 397.00},\n",
       " {'Região Norte': 64.29}]"
      ]
     },
     "execution_count": 24,
     "metadata": {},
     "output_type": "execute_result"
    }
   ],
   "source": [
    "#Means of cities per Region\n",
    "means_cities = []\n",
    "for region in regions:\n",
    "    sumcities = 0\n",
    "    statecount = 0\n",
    "    for state in estados:\n",
    "        if state['Regiao'] == region:\n",
    "            sumcities += int(state['Qtd_Mun'])\n",
    "            statecount += 1\n",
    "    means_cities.append({region: sumcities / statecount})\n",
    "means_cities\n",
    "        "
   ]
  },
  {
   "cell_type": "code",
   "execution_count": null,
   "metadata": {},
   "outputs": [],
   "source": []
  }
 ],
 "metadata": {
  "kernelspec": {
   "display_name": "Python 3",
   "language": "python",
   "name": "python3"
  },
  "language_info": {
   "codemirror_mode": {
    "name": "ipython",
    "version": 3
   },
   "file_extension": ".py",
   "mimetype": "text/x-python",
   "name": "python",
   "nbconvert_exporter": "python",
   "pygments_lexer": "ipython3",
   "version": "3.7.1"
  }
 },
 "nbformat": 4,
 "nbformat_minor": 2
}
