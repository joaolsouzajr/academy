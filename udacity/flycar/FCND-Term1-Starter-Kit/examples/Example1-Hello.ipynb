{
 "cells": [
  {
   "cell_type": "markdown",
   "id": "ranging-scanner",
   "metadata": {},
   "source": [
    "# Example 1 - Hello Drone Programming\n",
    "First contact with drone programing using the [Udacidrone](https://github.com/udacity/udacidrone) API\n",
    "\n",
    "Setup the enviroment:\n",
    "\n",
    "1. Install the [FCND simulator](https://github.com/udacity/FCND-Simulator-Releases/releases)  \n",
    "2. Install [miniconda3](https://docs.conda.io/en/latest/miniconda.html)\n",
    "3. `git clone https://github.com/udacity/FCND-Term1-Starter-Kit.git3`\n",
    "4. `conda env create -f environment.yml`\n",
    "5. `conda activate fcnd`"
   ]
  },
  {
   "cell_type": "code",
   "execution_count": 42,
   "id": "thorough-phase",
   "metadata": {},
   "outputs": [
    {
     "name": "stdout",
     "output_type": "stream",
     "text": [
      "Logs/TLog.txt\n"
     ]
    }
   ],
   "source": [
    "#Import\n",
    "from udacidrone import Drone\n",
    "from udacidrone.connection import MavlinkConnection\n",
    "\n",
    "#Open connection with the simulator\n",
    "conn = MavlinkConnection('tcp:127.0.0.1:5760', threaded=True)\n",
    "drone = Drone(conn)\n",
    "drone.start()"
   ]
  },
  {
   "cell_type": "code",
   "execution_count": 43,
   "id": "hollywood-convert",
   "metadata": {},
   "outputs": [],
   "source": [
    "#Take the control\n",
    "drone.take_control()"
   ]
  },
  {
   "cell_type": "code",
   "execution_count": 44,
   "id": "exotic-frederick",
   "metadata": {},
   "outputs": [],
   "source": [
    "#Turn on the motors\n",
    "drone.arm()"
   ]
  },
  {
   "cell_type": "code",
   "execution_count": 45,
   "id": "charged-sullivan",
   "metadata": {},
   "outputs": [
    {
     "name": "stdout",
     "output_type": "stream",
     "text": [
      "-122.395751 37.7932833 0.082\n"
     ]
    }
   ],
   "source": [
    "#get global home position\n",
    "home_lat = drone.global_position[0]\n",
    "home_lon = drone.global_position[1]\n",
    "home_alt = drone.global_position[2]\n",
    "print(home_lat, home_lon, home_alt)"
   ]
  },
  {
   "cell_type": "code",
   "execution_count": 46,
   "id": "recorded-arena",
   "metadata": {},
   "outputs": [],
   "source": [
    "#Set the home position\n",
    "drone.set_home_position(home_lat, home_lon, home_alt)"
   ]
  },
  {
   "cell_type": "code",
   "execution_count": 47,
   "id": "decreased-large",
   "metadata": {},
   "outputs": [],
   "source": [
    "#Takeoff 3m\n",
    "drone.takeoff(3)"
   ]
  },
  {
   "cell_type": "code",
   "execution_count": 48,
   "id": "regular-central",
   "metadata": {},
   "outputs": [],
   "source": [
    "#cmd_position(north, east, down, heading)\n",
    "drone.cmd_position(5,0,3,0)"
   ]
  },
  {
   "cell_type": "code",
   "execution_count": 50,
   "id": "internal-wilson",
   "metadata": {},
   "outputs": [],
   "source": [
    "# Return\n",
    "drone.cmd_position(0,0,3,0)"
   ]
  },
  {
   "cell_type": "code",
   "execution_count": 51,
   "id": "absolute-postcard",
   "metadata": {},
   "outputs": [],
   "source": [
    "#Turn off\n",
    "drone.disarm()"
   ]
  },
  {
   "cell_type": "code",
   "execution_count": 52,
   "id": "featured-darwin",
   "metadata": {},
   "outputs": [],
   "source": [
    "# Release the control\n",
    "drone.release_control()"
   ]
  },
  {
   "cell_type": "code",
   "execution_count": 53,
   "id": "extensive-simpson",
   "metadata": {},
   "outputs": [
    {
     "name": "stdout",
     "output_type": "stream",
     "text": [
      "Closing connection ...\n"
     ]
    }
   ],
   "source": [
    "#Closse connections\n",
    "drone.stop()"
   ]
  },
  {
   "cell_type": "code",
   "execution_count": null,
   "id": "focused-location",
   "metadata": {},
   "outputs": [],
   "source": []
  }
 ],
 "metadata": {
  "kernelspec": {
   "display_name": "Python 3",
   "language": "python",
   "name": "python3"
  },
  "language_info": {
   "codemirror_mode": {
    "name": "ipython",
    "version": 3
   },
   "file_extension": ".py",
   "mimetype": "text/x-python",
   "name": "python",
   "nbconvert_exporter": "python",
   "pygments_lexer": "ipython3",
   "version": "3.6.3"
  }
 },
 "nbformat": 4,
 "nbformat_minor": 5
}
