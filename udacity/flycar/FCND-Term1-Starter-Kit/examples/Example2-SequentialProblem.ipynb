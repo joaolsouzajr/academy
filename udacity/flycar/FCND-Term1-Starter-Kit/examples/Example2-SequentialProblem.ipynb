{
 "cells": [
  {
   "cell_type": "markdown",
   "id": "together-pipeline",
   "metadata": {},
   "source": [
    "# Example 2 -  The Problems with Sequential Execution"
   ]
  },
  {
   "cell_type": "code",
   "execution_count": 18,
   "id": "moral-density",
   "metadata": {},
   "outputs": [],
   "source": [
    "import time"
   ]
  },
  {
   "cell_type": "code",
   "execution_count": 15,
   "id": "hollow-georgia",
   "metadata": {},
   "outputs": [
    {
     "name": "stdout",
     "output_type": "stream",
     "text": [
      "Logs/TLog.txt\n"
     ]
    }
   ],
   "source": [
    "#Import\n",
    "from udacidrone import Drone\n",
    "from udacidrone.connection import MavlinkConnection\n",
    "\n",
    "#Open connection with the simulator\n",
    "conn = MavlinkConnection('tcp:127.0.0.1:5760', threaded=True)\n",
    "drone = Drone(conn)\n",
    "drone.start()"
   ]
  },
  {
   "cell_type": "code",
   "execution_count": 16,
   "id": "vocal-pixel",
   "metadata": {},
   "outputs": [],
   "source": [
    "#Take the control\n",
    "drone.take_control()"
   ]
  },
  {
   "cell_type": "code",
   "execution_count": 3,
   "id": "beginning-singer",
   "metadata": {},
   "outputs": [],
   "source": [
    "#Turn on the motors\n",
    "drone.arm()"
   ]
  },
  {
   "cell_type": "code",
   "execution_count": 4,
   "id": "global-balloon",
   "metadata": {},
   "outputs": [],
   "source": [
    "#Takeoff 5m\n",
    "drone.takeoff(5)"
   ]
  },
  {
   "cell_type": "code",
   "execution_count": 5,
   "id": "incorporated-director",
   "metadata": {},
   "outputs": [],
   "source": [
    "#cmd_position(north, east, down, heading)\n",
    "drone.cmd_position(10,0,5,0)"
   ]
  },
  {
   "cell_type": "code",
   "execution_count": 6,
   "id": "charitable-passion",
   "metadata": {},
   "outputs": [],
   "source": [
    "drone.cmd_position(0,0,5,0)"
   ]
  },
  {
   "cell_type": "code",
   "execution_count": 8,
   "id": "invalid-whole",
   "metadata": {},
   "outputs": [],
   "source": [
    "squere = [\n",
    "    (10, 0, 5, 0),\n",
    "    (10, 10, 5, 0),\n",
    "    (0, 10, 5, 0),\n",
    "    (0, 0, 5, 0),\n",
    "]"
   ]
  },
  {
   "cell_type": "code",
   "execution_count": 20,
   "id": "noticed-journey",
   "metadata": {},
   "outputs": [
    {
     "name": "stdout",
     "output_type": "stream",
     "text": [
      "10 0 5 0\n",
      "10 10 5 0\n",
      "0 10 5 0\n",
      "0 0 5 0\n"
     ]
    }
   ],
   "source": [
    "for corner in squere:\n",
    "    drone.cmd_position(*corner)\n",
    "    print(*corner)\n",
    "    time.sleep(3)\n",
    "    "
   ]
  },
  {
   "cell_type": "code",
   "execution_count": 21,
   "id": "tracked-abortion",
   "metadata": {},
   "outputs": [
    {
     "name": "stdout",
     "output_type": "stream",
     "text": [
      "Closing connection ...\n"
     ]
    }
   ],
   "source": [
    "drone.stop()"
   ]
  },
  {
   "cell_type": "code",
   "execution_count": null,
   "id": "afraid-marking",
   "metadata": {},
   "outputs": [],
   "source": []
  }
 ],
 "metadata": {
  "kernelspec": {
   "display_name": "Python 3",
   "language": "python",
   "name": "python3"
  },
  "language_info": {
   "codemirror_mode": {
    "name": "ipython",
    "version": 3
   },
   "file_extension": ".py",
   "mimetype": "text/x-python",
   "name": "python",
   "nbconvert_exporter": "python",
   "pygments_lexer": "ipython3",
   "version": "3.6.3"
  }
 },
 "nbformat": 4,
 "nbformat_minor": 5
}
